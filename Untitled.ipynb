{
 "cells": [
  {
   "cell_type": "code",
   "execution_count": null,
   "id": "42f9fdd0-7644-41cd-a3e6-e527219e3954",
   "metadata": {},
   "outputs": [],
   "source": [
    "!pip install --upgrade Keras\n",
    "import os\n",
    "#os.system(\"pip freeze > requirements.txt\")\n",
    "#os.system(\"pip install -r requirements.txt\")\n",
    "os.system(\"pip install umap-learn\")\n",
    "os.system(\"pip install mplhep\")\n",
    "import numpy as np\n",
    "from sklearn.datasets import load_digits\n",
    "from sklearn.model_selection import train_test_split\n",
    "from sklearn.preprocessing import StandardScaler\n",
    "import matplotlib.pyplot as plt\n",
    "import seaborn as sns\n",
    "import pandas as pd\n",
    "import umap\n",
    "from io import BytesIO\n",
    "from PIL import Image\n",
    "import base64\n",
    "import h5py\n",
    "from sklearn.model_selection import train_test_split\n",
    "from sklearn.preprocessing import StandardScaler\n",
    "from sklearn.metrics import roc_curve, auc\n",
    "import matplotlib.pyplot as plt\n",
    "import mplhep as hep\n",
    "\n",
    "import tensorflow as tf\n",
    "from bokeh.plotting import figure, show, output_notebook\n",
    "from bokeh.models import HoverTool, ColumnDataSource, CategoricalColorMapper\n",
    "from bokeh.palettes import Spectral10\n",
    "from umap.parametric_umap import ParametricUMAP as PUMAP\n",
    "plt.clf()\n",
    "#Load Proper Style Sheet\n",
    "plt.style.use(hep.style.CMS)\n",
    "\n",
    "print(\"Package import complete and proper style sheet loaded\")"
   ]
  },
  {
   "cell_type": "code",
   "execution_count": null,
   "id": "92f2999a-e9b9-4754-9b4c-1c972320c5bd",
   "metadata": {},
   "outputs": [],
   "source": []
  }
 ],
 "metadata": {
  "kernelspec": {
   "display_name": "Python 3 (ipykernel)",
   "language": "python",
   "name": "python3"
  },
  "language_info": {
   "codemirror_mode": {
    "name": "ipython",
    "version": 3
   },
   "file_extension": ".py",
   "mimetype": "text/x-python",
   "name": "python",
   "nbconvert_exporter": "python",
   "pygments_lexer": "ipython3",
   "version": "3.11.9"
  }
 },
 "nbformat": 4,
 "nbformat_minor": 5
}
